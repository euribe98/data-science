{
 "cells": [
  {
   "cell_type": "markdown",
   "metadata": {},
   "source": [
    "https://www.codementor.io/@dankhan/web-scrapping-using-python-and-beautifulsoup-o3hxadit4\n",
    "\n",
    "https://pythonprogramming.net/tables-xml-scraping-parsing-beautiful-soup-tutorial/\n",
    "\n",
    "https://www.crummy.com/software/BeautifulSoup/bs4/doc/"
   ]
  },
  {
   "cell_type": "code",
   "execution_count": 2,
   "metadata": {},
   "outputs": [
    {
     "name": "stdout",
     "output_type": "stream",
     "text": [
      "Requirement already satisfied: beautifulsoup4 in /Users/evanuribe/opt/anaconda3/lib/python3.7/site-packages (4.8.0)\r\n",
      "Requirement already satisfied: soupsieve>=1.2 in /Users/evanuribe/opt/anaconda3/lib/python3.7/site-packages (from beautifulsoup4) (1.9.3)\r\n"
     ]
    }
   ],
   "source": [
    "#!pip install requests\n",
    "#!pip install beautifulsoup4"
   ]
  },
  {
   "cell_type": "code",
   "execution_count": 8,
   "metadata": {},
   "outputs": [],
   "source": [
    "import requests\n",
    "from bs4 import BeautifulSoup\n",
    "\n",
    "import pandas as pd"
   ]
  },
  {
   "cell_type": "code",
   "execution_count": 350,
   "metadata": {},
   "outputs": [
    {
     "data": {
      "text/plain": [
       "200"
      ]
     },
     "execution_count": 350,
     "metadata": {},
     "output_type": "execute_result"
    }
   ],
   "source": [
    "# covid cases in south korea from jan to last 15 days\n",
    "url = \"https://en.wikipedia.org/w/index.php?title=2020_coronavirus_pandemic_in_South_Korea&oldid=951626301\"\n",
    "url = 'https://en.wikipedia.org/wiki/COVID-19_pandemic_in_the_United_States'\n",
    "page = requests.get(url)\n",
    "page.status_code"
   ]
  },
  {
   "cell_type": "code",
   "execution_count": 351,
   "metadata": {},
   "outputs": [],
   "source": [
    "soup = BeautifulSoup(page.content, 'html.parser')\n",
    "#print(soup.prettify())"
   ]
  },
  {
   "cell_type": "markdown",
   "metadata": {},
   "source": [
    "<tr class=\"mw-collapsible\" id=\"mw-customcollapsible-may-l15\">\n",
    "    \n",
    "<td colspan=\"2\" style=\"text-align:center\" class=\"bb-04em\">2020-05-20</td>\n",
    "\n",
    "<td class=\"bb-lr\">\n",
    "  <div title=\"264\" style=\"background:#A50026;width:6.3px\" class=\"bb-fl\">&#8203;</div>\n",
    "  <div title=\"10135\" style=\"background:SkyBlue;width:241.96px\" class=\"bb-fl\">&#8203;</div>\n",
    "  <div title=\"723\" style=\"background:Tomato;width:17.26px\" class=\"bb-fl\">&#8203;</div>\n",
    "</td>\n",
    "\n",
    "<td style=\"text-align:center\" class=\"bb-04em\"><span class=\"cbs-ibr\" style=\"padding:0 0.3em 0 0; width:3.5em\">11,122</span><span class=\"cbs-ibl\" style=\"width:4.55em\">(+0.11%)</span></td>\n",
    "    \n",
    "<td style=\"text-align:center\" class=\"bb-04em\"><span class=\"cbs-ibr\" style=\"padding:0 0.3em 0 0; width:2.45em\">264</span><span class=\"cbs-ibl\" style=\"width:4.55em\">(+0.38%)</span></td>\n",
    "\n",
    "</tr>"
   ]
  },
  {
   "cell_type": "code",
   "execution_count": 399,
   "metadata": {},
   "outputs": [
    {
     "data": {
      "text/html": [
       "<div>\n",
       "<style scoped>\n",
       "    .dataframe tbody tr th:only-of-type {\n",
       "        vertical-align: middle;\n",
       "    }\n",
       "\n",
       "    .dataframe tbody tr th {\n",
       "        vertical-align: top;\n",
       "    }\n",
       "\n",
       "    .dataframe thead th {\n",
       "        text-align: right;\n",
       "    }\n",
       "</style>\n",
       "<table border=\"1\" class=\"dataframe\">\n",
       "  <thead>\n",
       "    <tr style=\"text-align: right;\">\n",
       "      <th></th>\n",
       "      <th>cases</th>\n",
       "      <th>deaths</th>\n",
       "      <th>cases_inc</th>\n",
       "      <th>deaths_inc</th>\n",
       "      <th>date</th>\n",
       "    </tr>\n",
       "  </thead>\n",
       "  <tbody>\n",
       "    <tr>\n",
       "      <th>0</th>\n",
       "      <td>1</td>\n",
       "      <td>NaN</td>\n",
       "      <td>(n.a.)</td>\n",
       "      <td></td>\n",
       "      <td>2020-01-21</td>\n",
       "    </tr>\n",
       "    <tr>\n",
       "      <th>1</th>\n",
       "      <td>1</td>\n",
       "      <td>NaN</td>\n",
       "      <td>(=)</td>\n",
       "      <td></td>\n",
       "      <td>NaT</td>\n",
       "    </tr>\n",
       "    <tr>\n",
       "      <th>2</th>\n",
       "      <td>2</td>\n",
       "      <td>NaN</td>\n",
       "      <td>(+100%)</td>\n",
       "      <td></td>\n",
       "      <td>2020-01-24</td>\n",
       "    </tr>\n",
       "    <tr>\n",
       "      <th>3</th>\n",
       "      <td>3</td>\n",
       "      <td>NaN</td>\n",
       "      <td>(+50%)</td>\n",
       "      <td></td>\n",
       "      <td>2020-01-25</td>\n",
       "    </tr>\n",
       "    <tr>\n",
       "      <th>4</th>\n",
       "      <td>5</td>\n",
       "      <td>NaN</td>\n",
       "      <td>(+67%)</td>\n",
       "      <td></td>\n",
       "      <td>2020-01-26</td>\n",
       "    </tr>\n",
       "    <tr>\n",
       "      <th>...</th>\n",
       "      <td>...</td>\n",
       "      <td>...</td>\n",
       "      <td>...</td>\n",
       "      <td>...</td>\n",
       "      <td>...</td>\n",
       "    </tr>\n",
       "    <tr>\n",
       "      <th>101</th>\n",
       "      <td>1517926</td>\n",
       "      <td>85656.0</td>\n",
       "      <td>(+1.3%)</td>\n",
       "      <td>(+1.7%)</td>\n",
       "      <td>2020-05-19</td>\n",
       "    </tr>\n",
       "    <tr>\n",
       "      <th>102</th>\n",
       "      <td>1540294</td>\n",
       "      <td>87184.0</td>\n",
       "      <td>(+1.5%)</td>\n",
       "      <td>(+1.8%)</td>\n",
       "      <td>2020-05-20</td>\n",
       "    </tr>\n",
       "    <tr>\n",
       "      <th>103</th>\n",
       "      <td>1565311</td>\n",
       "      <td>88470.0</td>\n",
       "      <td>(+1.6%)</td>\n",
       "      <td>(+1.5%)</td>\n",
       "      <td>2020-05-21</td>\n",
       "    </tr>\n",
       "    <tr>\n",
       "      <th>104</th>\n",
       "      <td>1589223</td>\n",
       "      <td>89732.0</td>\n",
       "      <td>(+1.5%)</td>\n",
       "      <td>(+1.4%)</td>\n",
       "      <td>2020-05-22</td>\n",
       "    </tr>\n",
       "    <tr>\n",
       "      <th>105</th>\n",
       "      <td>1611687</td>\n",
       "      <td>90816.0</td>\n",
       "      <td>(+1.4%)</td>\n",
       "      <td>(+1.2%)</td>\n",
       "      <td>2020-05-23</td>\n",
       "    </tr>\n",
       "  </tbody>\n",
       "</table>\n",
       "<p>106 rows × 5 columns</p>\n",
       "</div>"
      ],
      "text/plain": [
       "       cases   deaths cases_inc deaths_inc       date\n",
       "0          1      NaN    (n.a.)            2020-01-21\n",
       "1          1      NaN       (=)                   NaT\n",
       "2          2      NaN   (+100%)            2020-01-24\n",
       "3          3      NaN    (+50%)            2020-01-25\n",
       "4          5      NaN    (+67%)            2020-01-26\n",
       "..       ...      ...       ...        ...        ...\n",
       "101  1517926  85656.0   (+1.3%)    (+1.7%) 2020-05-19\n",
       "102  1540294  87184.0   (+1.5%)    (+1.8%) 2020-05-20\n",
       "103  1565311  88470.0   (+1.6%)    (+1.5%) 2020-05-21\n",
       "104  1589223  89732.0   (+1.5%)    (+1.4%) 2020-05-22\n",
       "105  1611687  90816.0   (+1.4%)    (+1.2%) 2020-05-23\n",
       "\n",
       "[106 rows x 5 columns]"
      ]
     },
     "execution_count": 399,
     "metadata": {},
     "output_type": "execute_result"
    }
   ],
   "source": [
    "dates = []\n",
    "cases = []\n",
    "percent_inc = []\n",
    "\n",
    "td = soup.findAll('td', class_='bb-04em')\n",
    "\n",
    "for d in td:\n",
    "    for c in d.children:\n",
    "        if 'colspan' in d.attrs:\n",
    "            s = str(c)\n",
    "            s = s.replace('⋮', '')\n",
    "            dates.append(s)\n",
    "        elif 'span' == c.name :\n",
    "            cls = c.attrs['class']\n",
    "            if cls[0] == 'cbs-ibr':\n",
    "                cases.append(c.text.replace(',', ''))\n",
    "            elif cls[0] == 'cbs-ibl':\n",
    "                percent_inc.append(c.text)\n",
    "                \n",
    "\n",
    "data_tuple = []\n",
    "for a in zip(*[iter(cases)]*2): \n",
    "   data_tuple.append(a)\n",
    "    \n",
    "df = pd.DataFrame(data_tuple, columns=['cases', 'deaths'])\n",
    "\n",
    "data_tuple = []\n",
    "for a in zip(*[iter(percent_inc)]*2): \n",
    "   data_tuple.append(a)\n",
    "df2 = pd.DataFrame(data_tuple, columns=['cases_inc', 'deaths_inc'])\n",
    "\n",
    "\n",
    "df3 =  pd.concat([df, df2], axis=1)\n",
    "df3['date'] = dates\n",
    "\n",
    "df3['cases'] = pd.to_numeric(df3['cases'])\n",
    "df3['deaths'] = pd.to_numeric(df3['deaths'])\n",
    "df3['date']= pd.to_datetime(df3['date'])\n",
    "#df3['date'] = df3['date'].dt.date\n",
    "\n",
    "\n",
    "df3\n"
   ]
  },
  {
   "cell_type": "code",
   "execution_count": 400,
   "metadata": {},
   "outputs": [
    {
     "data": {
      "text/html": [
       "<div>\n",
       "<style scoped>\n",
       "    .dataframe tbody tr th:only-of-type {\n",
       "        vertical-align: middle;\n",
       "    }\n",
       "\n",
       "    .dataframe tbody tr th {\n",
       "        vertical-align: top;\n",
       "    }\n",
       "\n",
       "    .dataframe thead th {\n",
       "        text-align: right;\n",
       "    }\n",
       "</style>\n",
       "<table border=\"1\" class=\"dataframe\">\n",
       "  <thead>\n",
       "    <tr style=\"text-align: right;\">\n",
       "      <th></th>\n",
       "      <th>cases</th>\n",
       "      <th>deaths</th>\n",
       "      <th>cases_inc</th>\n",
       "      <th>deaths_inc</th>\n",
       "      <th>date</th>\n",
       "    </tr>\n",
       "  </thead>\n",
       "  <tbody>\n",
       "    <tr>\n",
       "      <th>0</th>\n",
       "      <td>1</td>\n",
       "      <td>NaN</td>\n",
       "      <td>(n.a.)</td>\n",
       "      <td></td>\n",
       "      <td>2020-01-21</td>\n",
       "    </tr>\n",
       "    <tr>\n",
       "      <th>1</th>\n",
       "      <td>1</td>\n",
       "      <td>NaN</td>\n",
       "      <td>(=)</td>\n",
       "      <td></td>\n",
       "      <td>NaT</td>\n",
       "    </tr>\n",
       "    <tr>\n",
       "      <th>2</th>\n",
       "      <td>2</td>\n",
       "      <td>NaN</td>\n",
       "      <td>(+100%)</td>\n",
       "      <td></td>\n",
       "      <td>2020-01-24</td>\n",
       "    </tr>\n",
       "    <tr>\n",
       "      <th>3</th>\n",
       "      <td>3</td>\n",
       "      <td>NaN</td>\n",
       "      <td>(+50%)</td>\n",
       "      <td></td>\n",
       "      <td>2020-01-25</td>\n",
       "    </tr>\n",
       "    <tr>\n",
       "      <th>4</th>\n",
       "      <td>5</td>\n",
       "      <td>NaN</td>\n",
       "      <td>(+67%)</td>\n",
       "      <td></td>\n",
       "      <td>2020-01-26</td>\n",
       "    </tr>\n",
       "  </tbody>\n",
       "</table>\n",
       "</div>"
      ],
      "text/plain": [
       "   cases  deaths cases_inc deaths_inc       date\n",
       "0      1     NaN    (n.a.)            2020-01-21\n",
       "1      1     NaN       (=)                   NaT\n",
       "2      2     NaN   (+100%)            2020-01-24\n",
       "3      3     NaN    (+50%)            2020-01-25\n",
       "4      5     NaN    (+67%)            2020-01-26"
      ]
     },
     "execution_count": 400,
     "metadata": {},
     "output_type": "execute_result"
    }
   ],
   "source": [
    "df3.head()\n"
   ]
  },
  {
   "cell_type": "code",
   "execution_count": 401,
   "metadata": {},
   "outputs": [
    {
     "name": "stderr",
     "output_type": "stream",
     "text": [
      "/Users/evanuribe/opt/anaconda3/lib/python3.7/site-packages/ipykernel_launcher.py:4: SettingWithCopyWarning: \n",
      "A value is trying to be set on a copy of a slice from a DataFrame\n",
      "\n",
      "See the caveats in the documentation: https://pandas.pydata.org/pandas-docs/stable/user_guide/indexing.html#returning-a-view-versus-a-copy\n",
      "  after removing the cwd from sys.path.\n",
      "/Users/evanuribe/opt/anaconda3/lib/python3.7/site-packages/ipykernel_launcher.py:5: SettingWithCopyWarning: \n",
      "A value is trying to be set on a copy of a slice from a DataFrame\n",
      "\n",
      "See the caveats in the documentation: https://pandas.pydata.org/pandas-docs/stable/user_guide/indexing.html#returning-a-view-versus-a-copy\n",
      "  \"\"\"\n",
      "/Users/evanuribe/opt/anaconda3/lib/python3.7/site-packages/ipykernel_launcher.py:6: SettingWithCopyWarning: \n",
      "A value is trying to be set on a copy of a slice from a DataFrame\n",
      "\n",
      "See the caveats in the documentation: https://pandas.pydata.org/pandas-docs/stable/user_guide/indexing.html#returning-a-view-versus-a-copy\n",
      "  \n"
     ]
    }
   ],
   "source": [
    "# colums with null date  (index: 1, 6, 20)\n",
    "df3[df3.date.isnull()]\n",
    "\n",
    "df3['date'][1] = df3['date'][0]\n",
    "df3['date'][6] = df3['date'][5]\n",
    "df3['date'][20] = df3['date'][19]\n",
    "\n",
    "df3.index = df3['date']\n"
   ]
  },
  {
   "cell_type": "code",
   "execution_count": 402,
   "metadata": {},
   "outputs": [
    {
     "name": "stdout",
     "output_type": "stream",
     "text": [
      "<class 'pandas.core.frame.DataFrame'>\n",
      "DatetimeIndex: 106 entries, 2020-01-21 to 2020-05-23\n",
      "Data columns (total 5 columns):\n",
      " #   Column      Non-Null Count  Dtype         \n",
      "---  ------      --------------  -----         \n",
      " 0   cases       106 non-null    int64         \n",
      " 1   deaths      85 non-null     float64       \n",
      " 2   cases_inc   106 non-null    object        \n",
      " 3   deaths_inc  106 non-null    object        \n",
      " 4   date        100 non-null    datetime64[ns]\n",
      "dtypes: datetime64[ns](1), float64(1), int64(1), object(2)\n",
      "memory usage: 5.0+ KB\n"
     ]
    },
    {
     "data": {
      "text/html": [
       "<div>\n",
       "<style scoped>\n",
       "    .dataframe tbody tr th:only-of-type {\n",
       "        vertical-align: middle;\n",
       "    }\n",
       "\n",
       "    .dataframe tbody tr th {\n",
       "        vertical-align: top;\n",
       "    }\n",
       "\n",
       "    .dataframe thead th {\n",
       "        text-align: right;\n",
       "    }\n",
       "</style>\n",
       "<table border=\"1\" class=\"dataframe\">\n",
       "  <thead>\n",
       "    <tr style=\"text-align: right;\">\n",
       "      <th></th>\n",
       "      <th>cases</th>\n",
       "      <th>deaths</th>\n",
       "      <th>cases_inc</th>\n",
       "      <th>deaths_inc</th>\n",
       "      <th>date</th>\n",
       "    </tr>\n",
       "    <tr>\n",
       "      <th>date</th>\n",
       "      <th></th>\n",
       "      <th></th>\n",
       "      <th></th>\n",
       "      <th></th>\n",
       "      <th></th>\n",
       "    </tr>\n",
       "  </thead>\n",
       "  <tbody>\n",
       "    <tr>\n",
       "      <th>NaT</th>\n",
       "      <td>5</td>\n",
       "      <td>NaN</td>\n",
       "      <td>(=)</td>\n",
       "      <td></td>\n",
       "      <td>NaT</td>\n",
       "    </tr>\n",
       "    <tr>\n",
       "      <th>NaT</th>\n",
       "      <td>6</td>\n",
       "      <td>NaN</td>\n",
       "      <td>(+20%)</td>\n",
       "      <td></td>\n",
       "      <td>NaT</td>\n",
       "    </tr>\n",
       "    <tr>\n",
       "      <th>NaT</th>\n",
       "      <td>11</td>\n",
       "      <td>NaN</td>\n",
       "      <td>(=)</td>\n",
       "      <td></td>\n",
       "      <td>NaT</td>\n",
       "    </tr>\n",
       "    <tr>\n",
       "      <th>NaT</th>\n",
       "      <td>12</td>\n",
       "      <td>NaN</td>\n",
       "      <td>(=)</td>\n",
       "      <td></td>\n",
       "      <td>NaT</td>\n",
       "    </tr>\n",
       "    <tr>\n",
       "      <th>NaT</th>\n",
       "      <td>12</td>\n",
       "      <td>NaN</td>\n",
       "      <td>(=)</td>\n",
       "      <td></td>\n",
       "      <td>NaT</td>\n",
       "    </tr>\n",
       "    <tr>\n",
       "      <th>NaT</th>\n",
       "      <td>14</td>\n",
       "      <td>NaN</td>\n",
       "      <td>(=)</td>\n",
       "      <td></td>\n",
       "      <td>NaT</td>\n",
       "    </tr>\n",
       "  </tbody>\n",
       "</table>\n",
       "</div>"
      ],
      "text/plain": [
       "      cases  deaths cases_inc deaths_inc date\n",
       "date                                         \n",
       "NaT       5     NaN       (=)             NaT\n",
       "NaT       6     NaN    (+20%)             NaT\n",
       "NaT      11     NaN       (=)             NaT\n",
       "NaT      12     NaN       (=)             NaT\n",
       "NaT      12     NaN       (=)             NaT\n",
       "NaT      14     NaN       (=)             NaT"
      ]
     },
     "execution_count": 402,
     "metadata": {},
     "output_type": "execute_result"
    }
   ],
   "source": [
    "df3.info()\n",
    "\n",
    "df3[df3.date.isnull()]\n"
   ]
  },
  {
   "cell_type": "code",
   "execution_count": 404,
   "metadata": {},
   "outputs": [
    {
     "data": {
      "text/html": [
       "<div>\n",
       "<style scoped>\n",
       "    .dataframe tbody tr th:only-of-type {\n",
       "        vertical-align: middle;\n",
       "    }\n",
       "\n",
       "    .dataframe tbody tr th {\n",
       "        vertical-align: top;\n",
       "    }\n",
       "\n",
       "    .dataframe thead th {\n",
       "        text-align: right;\n",
       "    }\n",
       "</style>\n",
       "<table border=\"1\" class=\"dataframe\">\n",
       "  <thead>\n",
       "    <tr style=\"text-align: right;\">\n",
       "      <th></th>\n",
       "      <th>cases</th>\n",
       "      <th>deaths</th>\n",
       "      <th>cases_inc</th>\n",
       "      <th>deaths_inc</th>\n",
       "      <th>date</th>\n",
       "    </tr>\n",
       "    <tr>\n",
       "      <th>date</th>\n",
       "      <th></th>\n",
       "      <th></th>\n",
       "      <th></th>\n",
       "      <th></th>\n",
       "      <th></th>\n",
       "    </tr>\n",
       "  </thead>\n",
       "  <tbody>\n",
       "    <tr>\n",
       "      <th>2020-05-01</th>\n",
       "      <td>1095682</td>\n",
       "      <td>58931.0</td>\n",
       "      <td>(+3.1%)</td>\n",
       "      <td>(+3.1%)</td>\n",
       "      <td>2020-05-01</td>\n",
       "    </tr>\n",
       "    <tr>\n",
       "      <th>2020-05-02</th>\n",
       "      <td>1126250</td>\n",
       "      <td>60599.0</td>\n",
       "      <td>(+2.8%)</td>\n",
       "      <td>(+2.8%)</td>\n",
       "      <td>2020-05-02</td>\n",
       "    </tr>\n",
       "    <tr>\n",
       "      <th>2020-05-03</th>\n",
       "      <td>1151643</td>\n",
       "      <td>61716.0</td>\n",
       "      <td>(+2.3%)</td>\n",
       "      <td>(+1.8%)</td>\n",
       "      <td>2020-05-03</td>\n",
       "    </tr>\n",
       "    <tr>\n",
       "      <th>2020-05-04</th>\n",
       "      <td>1172921</td>\n",
       "      <td>62593.0</td>\n",
       "      <td>(+1.8%)</td>\n",
       "      <td>(+1.4%)</td>\n",
       "      <td>2020-05-04</td>\n",
       "    </tr>\n",
       "    <tr>\n",
       "      <th>2020-05-05</th>\n",
       "      <td>1195173</td>\n",
       "      <td>65028.0</td>\n",
       "      <td>(+1.9%)</td>\n",
       "      <td>(+3.9%)</td>\n",
       "      <td>2020-05-05</td>\n",
       "    </tr>\n",
       "    <tr>\n",
       "      <th>2020-05-06</th>\n",
       "      <td>1220032</td>\n",
       "      <td>67729.0</td>\n",
       "      <td>(+2.1%)</td>\n",
       "      <td>(+4.2%)</td>\n",
       "      <td>2020-05-06</td>\n",
       "    </tr>\n",
       "    <tr>\n",
       "      <th>2020-05-07</th>\n",
       "      <td>1247567</td>\n",
       "      <td>69700.0</td>\n",
       "      <td>(+2.3%)</td>\n",
       "      <td>(+2.9%)</td>\n",
       "      <td>2020-05-07</td>\n",
       "    </tr>\n",
       "    <tr>\n",
       "      <th>2020-05-08</th>\n",
       "      <td>1274681</td>\n",
       "      <td>71395.0</td>\n",
       "      <td>(+2.2%)</td>\n",
       "      <td>(+2.4%)</td>\n",
       "      <td>2020-05-08</td>\n",
       "    </tr>\n",
       "    <tr>\n",
       "      <th>2020-05-09</th>\n",
       "      <td>1300244</td>\n",
       "      <td>72950.0</td>\n",
       "      <td>(+2%)</td>\n",
       "      <td>(+2.2%)</td>\n",
       "      <td>2020-05-09</td>\n",
       "    </tr>\n",
       "    <tr>\n",
       "      <th>2020-05-10</th>\n",
       "      <td>1320941</td>\n",
       "      <td>73895.0</td>\n",
       "      <td>(+1.6%)</td>\n",
       "      <td>(+1.3%)</td>\n",
       "      <td>2020-05-10</td>\n",
       "    </tr>\n",
       "  </tbody>\n",
       "</table>\n",
       "</div>"
      ],
      "text/plain": [
       "              cases   deaths cases_inc deaths_inc       date\n",
       "date                                                        \n",
       "2020-05-01  1095682  58931.0   (+3.1%)    (+3.1%) 2020-05-01\n",
       "2020-05-02  1126250  60599.0   (+2.8%)    (+2.8%) 2020-05-02\n",
       "2020-05-03  1151643  61716.0   (+2.3%)    (+1.8%) 2020-05-03\n",
       "2020-05-04  1172921  62593.0   (+1.8%)    (+1.4%) 2020-05-04\n",
       "2020-05-05  1195173  65028.0   (+1.9%)    (+3.9%) 2020-05-05\n",
       "2020-05-06  1220032  67729.0   (+2.1%)    (+4.2%) 2020-05-06\n",
       "2020-05-07  1247567  69700.0   (+2.3%)    (+2.9%) 2020-05-07\n",
       "2020-05-08  1274681  71395.0   (+2.2%)    (+2.4%) 2020-05-08\n",
       "2020-05-09  1300244  72950.0     (+2%)    (+2.2%) 2020-05-09\n",
       "2020-05-10  1320941  73895.0   (+1.6%)    (+1.3%) 2020-05-10"
      ]
     },
     "execution_count": 404,
     "metadata": {},
     "output_type": "execute_result"
    }
   ],
   "source": [
    "# may stats\n",
    "mask = (df3['date'] >= '2020-05-01') \n",
    "may = df3 = df3.loc[mask]\n",
    "may.head(10)\n"
   ]
  },
  {
   "cell_type": "code",
   "execution_count": null,
   "metadata": {},
   "outputs": [],
   "source": []
  },
  {
   "cell_type": "code",
   "execution_count": 405,
   "metadata": {},
   "outputs": [
    {
     "data": {
      "image/png": "[encoded data removed]",
      "text/plain": [
       "<Figure size 1080x504 with 1 Axes>"
      ]
     },
     "metadata": {
      "needs_background": "light"
     },
     "output_type": "display_data"
    },
    {
     "data": {
      "image/png": "[encoded data removed]",
      "text/plain": [
       "<Figure size 1080x504 with 1 Axes>"
      ]
     },
     "metadata": {
      "needs_background": "light"
     },
     "output_type": "display_data"
    }
   ],
   "source": [
    "\n",
    "import matplotlib.pyplot as plt\n",
    "import numpy as np\n",
    "\n",
    "x = may['date']\n",
    "y = may['cases']\n",
    "\n",
    "plt.figure(figsize=(15,7))\n",
    "plt.plot(x, y)\n",
    "plt.show()\n",
    "\n",
    "\n",
    "plt.figure(figsize=(15,7))\n",
    "plt.bar(x, y)\n",
    "plt.show()\n"
   ]
  },
  {
   "cell_type": "code",
   "execution_count": 409,
   "metadata": {},
   "outputs": [
    {
     "data": {
      "image/png": "[encoded data removed]",
      "text/plain": [
       "<Figure size 720x360 with 2 Axes>"
      ]
     },
     "metadata": {
      "needs_background": "light"
     },
     "output_type": "display_data"
    }
   ],
   "source": [
    "import matplotlib.pyplot as plt \n",
    "\n",
    "\n",
    "fig, ax = plt.subplots(1,1, figsize=(10,5)) \n",
    "\n",
    "# Plot the first x and y axes:\n",
    "df3.plot(x = 'date', y = 'cases', ax = ax, c='b') \n",
    "\n",
    "# (see https://pandas.pydata.org/pandas-docs/stable/reference/api/pandas.DataFrame.plot.html for details)\n",
    "df3.plot(x = 'date', y = 'deaths', ax = ax, secondary_y = True, c='r') ;"
   ]
  },
  {
   "cell_type": "code",
   "execution_count": 407,
   "metadata": {},
   "outputs": [
    {
     "data": {
      "image/png": "[encoded data removed]",
      "text/plain": [
       "<Figure size 1080x720 with 1 Axes>"
      ]
     },
     "metadata": {
      "needs_background": "light"
     },
     "output_type": "display_data"
    }
   ],
   "source": [
    "import matplotlib.dates as mdates\n",
    "\n",
    "may2=may.iloc[:, 0:2]\n",
    "may2\n",
    "\n",
    "ax = may2.plot.bar(figsize=(15,10))\n",
    "ax.fmt_xdata = mdates.DateFormatter('%Y-%-m-%-d')\n",
    "plt.setp(ax.get_xticklabels(), rotation=45)\n",
    "plt.show()"
   ]
  },
  {
   "cell_type": "code",
   "execution_count": null,
   "metadata": {},
   "outputs": [],
   "source": []
  },
  {
   "cell_type": "code",
   "execution_count": 408,
   "metadata": {},
   "outputs": [
    {
     "data": {
      "image/png": "[encoded data removed]",
      "text/plain": [
       "<Figure size 720x360 with 1 Axes>"
      ]
     },
     "metadata": {
      "needs_background": "light"
     },
     "output_type": "display_data"
    }
   ],
   "source": [
    "# Create figure and plot space\n",
    "fig, ax = plt.subplots(1,1, figsize=(10, 5))\n",
    "\n",
    "x = may['date']\n",
    "y = may['cases']\n",
    "y2 = may['deaths']\n",
    "\n",
    "# Add x-axis and y-axis\n",
    "ax.bar(may2.index.values, y, color='purple')\n",
    "ax.bar(may2.index.values, y2, color='red')\n",
    "\n",
    "\n",
    "# Rotate tick marks on x-axis\n",
    "plt.setp(ax.get_xticklabels(), rotation=45)\n",
    "\n",
    "plt.show()"
   ]
  },
  {
   "cell_type": "code",
   "execution_count": null,
   "metadata": {},
   "outputs": [],
   "source": []
  },
  {
   "cell_type": "code",
   "execution_count": null,
   "metadata": {},
   "outputs": [],
   "source": []
  },
  {
   "cell_type": "code",
   "execution_count": 36,
   "metadata": {},
   "outputs": [],
   "source": []
  },
  {
   "cell_type": "code",
   "execution_count": 22,
   "metadata": {},
   "outputs": [
    {
     "name": "stdout",
     "output_type": "stream",
     "text": [
      "236\n"
     ]
    },
    {
     "data": {
      "text/plain": [
       "236"
      ]
     },
     "execution_count": 22,
     "metadata": {},
     "output_type": "execute_result"
    }
   ],
   "source": [
    "# get dates\n",
    "dates = []\n",
    "for x in soup.findAll(\"td\", class_='bb-04em'):\n",
    "    if \"colspan\" in x.attrs:\n",
    "        #x.attrs = {}\n",
    "        dates.append(x.text)\n",
    "len(dates)\n",
    "\n",
    "datesDf = pd.DataFrame(dates, columns=['date'])\n",
    "#datesDf\n",
    "\n",
    "# last 15 days number of cases and deaths, first item is cases, 2nd is deaths\n",
    "\n",
    "spans = soup.find_all('span', {'class' : 'cbs-ibr'})\n",
    "\n",
    "cases_deaths = [span.get_text() for span in spans]\n",
    "print(len(cases_deaths))\n",
    "\n",
    "\n",
    "# percentage increase\n",
    "spans = soup.find_all('span', {'class' : 'cbs-ibl'})\n",
    "\n",
    "percent_increase = [span.get_text() for span in spans]\n",
    "len(percent_increase)"
   ]
  },
  {
   "cell_type": "code",
   "execution_count": null,
   "metadata": {},
   "outputs": [],
   "source": []
  },
  {
   "cell_type": "code",
   "execution_count": null,
   "metadata": {},
   "outputs": [],
   "source": []
  },
  {
   "cell_type": "code",
   "execution_count": null,
   "metadata": {},
   "outputs": [],
   "source": []
  },
  {
   "cell_type": "code",
   "execution_count": null,
   "metadata": {},
   "outputs": [],
   "source": []
  },
  {
   "cell_type": "code",
   "execution_count": null,
   "metadata": {},
   "outputs": [],
   "source": []
  },
  {
   "cell_type": "code",
   "execution_count": null,
   "metadata": {},
   "outputs": [],
   "source": []
  },
  {
   "cell_type": "code",
   "execution_count": 5,
   "metadata": {},
   "outputs": [
    {
     "name": "stdout",
     "output_type": "stream",
     "text": [
      "200\n"
     ]
    }
   ],
   "source": [
    "url = \"https://en.wikipedia.org/wiki/List_of_Presidents_of_the_United_States\"\n",
    "page = requests.get(url)\n",
    "print(page.status_code)   # This should print 200"
   ]
  },
  {
   "cell_type": "code",
   "execution_count": 8,
   "metadata": {},
   "outputs": [],
   "source": [
    "#print(page.content)"
   ]
  },
  {
   "cell_type": "code",
   "execution_count": 12,
   "metadata": {},
   "outputs": [],
   "source": [
    "soup = BeautifulSoup(page.content, 'html.parser')\n",
    "#print(soup.prettify())"
   ]
  },
  {
   "cell_type": "code",
   "execution_count": 9,
   "metadata": {},
   "outputs": [
    {
     "name": "stdout",
     "output_type": "stream",
     "text": [
      "<a href=\"/wiki/George_Washington\" title=\"George Washington\">George Washington</a>\n",
      "<a href=\"/wiki/John_Adams\" title=\"John Adams\">John Adams</a>\n",
      "<a href=\"/wiki/Thomas_Jefferson\" title=\"Thomas Jefferson\">Thomas Jefferson</a>\n",
      "<a href=\"/wiki/James_Madison\" title=\"James Madison\">James Madison</a>\n",
      "<a href=\"/wiki/James_Monroe\" title=\"James Monroe\">James Monroe</a>\n",
      "<a href=\"/wiki/John_Quincy_Adams\" title=\"John Quincy Adams\">John Quincy Adams</a>\n",
      "<a href=\"/wiki/Andrew_Jackson\" title=\"Andrew Jackson\">Andrew Jackson</a>\n",
      "<a href=\"/wiki/Martin_Van_Buren\" title=\"Martin Van Buren\">Martin Van Buren</a>\n",
      "<a href=\"/wiki/William_Henry_Harrison\" title=\"William Henry Harrison\">William Henry Harrison</a>\n",
      "<a href=\"/wiki/John_Tyler\" title=\"John Tyler\">John Tyler</a>\n",
      "<a href=\"/wiki/James_K._Polk\" title=\"James K. Polk\">James K. Polk</a>\n",
      "<a href=\"/wiki/Zachary_Taylor\" title=\"Zachary Taylor\">Zachary Taylor</a>\n",
      "<a href=\"/wiki/Millard_Fillmore\" title=\"Millard Fillmore\">Millard Fillmore</a>\n",
      "<a href=\"/wiki/Franklin_Pierce\" title=\"Franklin Pierce\">Franklin Pierce</a>\n",
      "<a href=\"/wiki/James_Buchanan\" title=\"James Buchanan\">James Buchanan</a>\n",
      "<a href=\"/wiki/Abraham_Lincoln\" title=\"Abraham Lincoln\">Abraham Lincoln</a>\n",
      "<a href=\"/wiki/Andrew_Johnson\" title=\"Andrew Johnson\">Andrew Johnson</a>\n",
      "<a href=\"/wiki/Ulysses_S._Grant\" title=\"Ulysses S. Grant\">Ulysses S. Grant</a>\n",
      "<a href=\"/wiki/Rutherford_B._Hayes\" title=\"Rutherford B. Hayes\">Rutherford B. Hayes</a>\n",
      "<a href=\"/wiki/James_A._Garfield\" title=\"James A. Garfield\">James A. Garfield</a>\n",
      "<a href=\"/wiki/Chester_A._Arthur\" title=\"Chester A. Arthur\">Chester A. Arthur</a>\n",
      "<a href=\"/wiki/Grover_Cleveland\" title=\"Grover Cleveland\">Grover Cleveland</a>\n",
      "<a href=\"/wiki/Benjamin_Harrison\" title=\"Benjamin Harrison\">Benjamin Harrison</a>\n",
      "<a href=\"/wiki/Grover_Cleveland\" title=\"Grover Cleveland\">Grover Cleveland</a>\n",
      "<a href=\"/wiki/William_McKinley\" title=\"William McKinley\">William McKinley</a>\n",
      "<a href=\"/wiki/Theodore_Roosevelt\" title=\"Theodore Roosevelt\">Theodore Roosevelt</a>\n",
      "<a href=\"/wiki/William_Howard_Taft\" title=\"William Howard Taft\">William Howard Taft</a>\n",
      "<a href=\"/wiki/Woodrow_Wilson\" title=\"Woodrow Wilson\">Woodrow Wilson</a>\n",
      "<a href=\"/wiki/Warren_G._Harding\" title=\"Warren G. Harding\">Warren G. Harding</a>\n",
      "<a href=\"/wiki/Calvin_Coolidge\" title=\"Calvin Coolidge\">Calvin Coolidge</a>\n",
      "<a href=\"/wiki/Herbert_Hoover\" title=\"Herbert Hoover\">Herbert Hoover</a>\n",
      "<a href=\"/wiki/Franklin_D._Roosevelt\" title=\"Franklin D. Roosevelt\">Franklin D. Roosevelt</a>\n",
      "<a href=\"/wiki/Harry_S._Truman\" title=\"Harry S. Truman\">Harry S. Truman</a>\n",
      "<a href=\"/wiki/Dwight_D._Eisenhower\" title=\"Dwight D. Eisenhower\">Dwight D. Eisenhower</a>\n",
      "<a href=\"/wiki/John_F._Kennedy\" title=\"John F. Kennedy\">John F. Kennedy</a>\n",
      "<a href=\"/wiki/Lyndon_B._Johnson\" title=\"Lyndon B. Johnson\">Lyndon B. Johnson</a>\n",
      "<a href=\"/wiki/Richard_Nixon\" title=\"Richard Nixon\">Richard Nixon</a>\n",
      "<a href=\"/wiki/Gerald_Ford\" title=\"Gerald Ford\">Gerald Ford</a>\n",
      "<a href=\"/wiki/Jimmy_Carter\" title=\"Jimmy Carter\">Jimmy Carter</a>\n",
      "<a href=\"/wiki/Ronald_Reagan\" title=\"Ronald Reagan\">Ronald Reagan</a>\n",
      "<a href=\"/wiki/George_H._W._Bush\" title=\"George H. W. Bush\">George H. W. Bush</a>\n",
      "<a href=\"/wiki/Bill_Clinton\" title=\"Bill Clinton\">Bill Clinton</a>\n",
      "<a href=\"/wiki/George_W._Bush\" title=\"George W. Bush\">George W. Bush</a>\n",
      "<a href=\"/wiki/Barack_Obama\" title=\"Barack Obama\">Barack Obama</a>\n",
      "<a href=\"/wiki/Donald_Trump\" title=\"Donald Trump\">Donald Trump</a>\n",
      "None\n"
     ]
    }
   ],
   "source": [
    "##we know that our table is in tag table and class wikitable. So, first we will extract the\n",
    "#data in table tag using find method of bs4 object. This method returns a bs4 object\n",
    "tb = soup.find('table', class_='wikitable')\n",
    "for link in tb.find_all('b'):\n",
    "    name = link.find('a')\n",
    "    #print(name)  "
   ]
  },
  {
   "cell_type": "code",
   "execution_count": 11,
   "metadata": {},
   "outputs": [
    {
     "name": "stdout",
     "output_type": "stream",
     "text": [
      "George Washington\n",
      "John Adams\n",
      "Thomas Jefferson\n",
      "James Madison\n",
      "James Monroe\n",
      "John Quincy Adams\n",
      "Andrew Jackson\n",
      "Martin Van Buren\n",
      "William Henry Harrison\n",
      "John Tyler\n",
      "James K. Polk\n",
      "Zachary Taylor\n",
      "Millard Fillmore\n",
      "Franklin Pierce\n",
      "James Buchanan\n",
      "Abraham Lincoln\n",
      "Andrew Johnson\n",
      "Ulysses S. Grant\n",
      "Rutherford B. Hayes\n",
      "James A. Garfield\n",
      "Chester A. Arthur\n",
      "Grover Cleveland\n",
      "Benjamin Harrison\n",
      "Grover Cleveland\n",
      "William McKinley\n",
      "Theodore Roosevelt\n",
      "William Howard Taft\n",
      "Woodrow Wilson\n",
      "Warren G. Harding\n",
      "Calvin Coolidge\n",
      "Herbert Hoover\n",
      "Franklin D. Roosevelt\n",
      "Harry S. Truman\n",
      "Dwight D. Eisenhower\n",
      "John F. Kennedy\n",
      "Lyndon B. Johnson\n",
      "Richard Nixon\n",
      "Gerald Ford\n",
      "Jimmy Carter\n",
      "Ronald Reagan\n",
      "George H. W. Bush\n",
      "Bill Clinton\n",
      "George W. Bush\n",
      "Barack Obama\n",
      "Donald Trump\n"
     ]
    }
   ],
   "source": [
    "# The eleemnt title can be extracted from all a tags using the method get_text().\n",
    "#So modifyng the above code snippet\n",
    "for link in tb.find_all('b'):\n",
    "    name = link.find('a')\n",
    "    if name != None:\n",
    "       print(name.get_text('title'))"
   ]
  },
  {
   "cell_type": "code",
   "execution_count": null,
   "metadata": {},
   "outputs": [],
   "source": []
  },
  {
   "cell_type": "code",
   "execution_count": null,
   "metadata": {},
   "outputs": [],
   "source": []
  },
  {
   "cell_type": "code",
   "execution_count": null,
   "metadata": {},
   "outputs": [],
   "source": []
  },
  {
   "cell_type": "code",
   "execution_count": null,
   "metadata": {},
   "outputs": [],
   "source": []
  }
 ],
 "metadata": {
  "kernelspec": {
   "display_name": "Python 3",
   "language": "python",
   "name": "python3"
  },
  "language_info": {
   "codemirror_mode": {
    "name": "ipython",
    "version": 3
   },
   "file_extension": ".py",
   "mimetype": "text/x-python",
   "name": "python",
   "nbconvert_exporter": "python",
   "pygments_lexer": "ipython3",
   "version": "3.7.4"
  }
 },
 "nbformat": 4,
 "nbformat_minor": 2
}
